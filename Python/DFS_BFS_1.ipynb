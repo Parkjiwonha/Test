{
 "cells": [
  {
   "cell_type": "markdown",
   "id": "3ec8d956",
   "metadata": {},
   "source": [
    "## DFS/BFS_타겟넘버 "
   ]
  },
  {
   "cell_type": "markdown",
   "id": "215790b3",
   "metadata": {},
   "source": [
    "### n개의 음이 아닌 정수들이 있습니다. 이 정수들을 순서를 바꾸지 않고 적절히 더하거나 빼서 타겟 넘버를 만들려고 합니다. 예를 들어 [1, 1, 1, 1, 1]로 숫자 3을 만들려면 다음 다섯 방법을 쓸 수 있습니다.\n",
    "\n",
    "-1+1+1+1+1 = 3\n",
    "+1-1+1+1+1 = 3\n",
    "+1+1-1+1+1 = 3\n",
    "+1+1+1-1+1 = 3\n",
    "+1+1+1+1-1 = 3\n",
    "\n",
    "### 사용할 수 있는 숫자가 담긴 배열 numbers, 타겟 넘버 target이 매개변수로 주어질 때 숫자를 적절히 더하고 빼서 타겟 넘버를 만드는 방법의 수를 return 하도록 solution 함수를 작성해주세요."
   ]
  },
  {
   "cell_type": "markdown",
   "id": "283f10e6",
   "metadata": {},
   "source": [
    "- 주어지는 숫자의 개수는 2개 이상 20개 이하입니다.\n",
    "- 각 숫자는 1 이상 50 이하인 자연수입니다.\n",
    "- 타겟 넘버는 1 이상 1000 이하인 자연수입니다."
   ]
  },
  {
   "cell_type": "code",
   "execution_count": 102,
   "id": "d406c98d",
   "metadata": {},
   "outputs": [],
   "source": [
    "numbers, target=[1, 1, 1, 1, 1],3"
   ]
  },
  {
   "cell_type": "code",
   "execution_count": 193,
   "id": "95c779c2",
   "metadata": {},
   "outputs": [],
   "source": [
    "def solution(numbers, target):\n",
    "    answer=0\n",
    "    cnt=0\n",
    "    \n",
    "    def a(number, cnt):\n",
    "        if cnt==len(numbers):\n",
    "            if number==target:\n",
    "                nonlocal answer\n",
    "                answer+=1\n",
    "            return\n",
    "               \n",
    "        else:\n",
    "            a(number+numbers[cnt],cnt+1)\n",
    "            a(number-numbers[cnt],cnt+1)\n",
    "        \n",
    "    a(0,0)\n",
    "    return answer"
   ]
  },
  {
   "cell_type": "code",
   "execution_count": 194,
   "id": "944f52c2",
   "metadata": {},
   "outputs": [
    {
     "data": {
      "text/plain": [
       "5"
      ]
     },
     "execution_count": 194,
     "metadata": {},
     "output_type": "execute_result"
    }
   ],
   "source": [
    "solution(numbers, target)"
   ]
  },
  {
   "cell_type": "code",
   "execution_count": 201,
   "id": "8ea624ba",
   "metadata": {},
   "outputs": [],
   "source": [
    "def solution(numbers, target):\n",
    "    \n",
    "    def a(number, cnt):\n",
    "        if cnt==len(numbers):\n",
    "            if number==target:\n",
    "                return 1\n",
    "            else:\n",
    "                return 0\n",
    "        return a(number+numbers[cnt],cnt+1)+a(number-numbers[cnt],cnt+1)\n",
    "    \n",
    "    return a(0,0)"
   ]
  },
  {
   "cell_type": "code",
   "execution_count": 202,
   "id": "5c6c9179",
   "metadata": {},
   "outputs": [
    {
     "data": {
      "text/plain": [
       "5"
      ]
     },
     "execution_count": 202,
     "metadata": {},
     "output_type": "execute_result"
    }
   ],
   "source": [
    "solution(numbers, target)"
   ]
  }
 ],
 "metadata": {
  "kernelspec": {
   "display_name": "Python 3",
   "language": "python",
   "name": "python3"
  },
  "language_info": {
   "codemirror_mode": {
    "name": "ipython",
    "version": 3
   },
   "file_extension": ".py",
   "mimetype": "text/x-python",
   "name": "python",
   "nbconvert_exporter": "python",
   "pygments_lexer": "ipython3",
   "version": "3.8.8"
  }
 },
 "nbformat": 4,
 "nbformat_minor": 5
}
