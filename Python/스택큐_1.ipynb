{
 "cells": [
  {
   "cell_type": "markdown",
   "id": "0b6ac9f3",
   "metadata": {},
   "source": [
    "## 프로그래머스_같은 숫자는 싫어 https://school.programmers.co.kr/learn/courses/30/lessons/12906"
   ]
  },
  {
   "cell_type": "markdown",
   "id": "2259cebe",
   "metadata": {},
   "source": [
    "### 배열 arr가 주어집니다. 배열 arr의 각 원소는 숫자 0부터 9까지로 이루어져 있습니다. 이때, 배열 arr에서 연속적으로 나타나는 숫자는 하나만 남기고 전부 제거하려고 합니다. 단, 제거된 후 남은 수들을 반환할 때는 배열 arr의 원소들의 순서를 유지해야 합니다. 배열 arr에서 연속적으로 나타나는 숫자는 제거하고 남은 수들을 return 하는 solution 함수를 완성해 주세요.\n",
    "\n",
    "### arr = [1, 1, 3, 3, 0, 1, 1] 이면 [1, 3, 0, 1] 을 return 합니다.\n",
    "### arr = [4, 4, 4, 3, 3] 이면 [4, 3] 을 return 합니다."
   ]
  },
  {
   "cell_type": "markdown",
   "id": "396992e7",
   "metadata": {},
   "source": [
    "- 배열 arr의 크기 : 1,000,000 이하의 자연수\n",
    "- 배열 arr의 원소의 크기 : 0보다 크거나 같고 9보다 작거나 같은 정수"
   ]
  },
  {
   "cell_type": "code",
   "execution_count": 33,
   "id": "015c4369",
   "metadata": {},
   "outputs": [],
   "source": [
    "arr = [1, 1, 3, 3, 0, 1, 1]"
   ]
  },
  {
   "cell_type": "code",
   "execution_count": 16,
   "id": "757d9a45",
   "metadata": {},
   "outputs": [],
   "source": [
    "def solution(arr):\n",
    "    answer =[]\n",
    "    num=None\n",
    "    for i in arr:\n",
    "        if i!=num:\n",
    "            answer.append(i)\n",
    "            num=i\n",
    "    return answer"
   ]
  },
  {
   "cell_type": "code",
   "execution_count": 34,
   "id": "fcc15158",
   "metadata": {},
   "outputs": [],
   "source": [
    "answer=[]\n",
    "for i in arr:\n",
    "    if (len(answer)==0) or (answer[-1]!=i):\n",
    "        answer.append(i)"
   ]
  }
 ],
 "metadata": {
  "kernelspec": {
   "display_name": "Python 3",
   "language": "python",
   "name": "python3"
  },
  "language_info": {
   "codemirror_mode": {
    "name": "ipython",
    "version": 3
   },
   "file_extension": ".py",
   "mimetype": "text/x-python",
   "name": "python",
   "nbconvert_exporter": "python",
   "pygments_lexer": "ipython3",
   "version": "3.8.8"
  }
 },
 "nbformat": 4,
 "nbformat_minor": 5
}
