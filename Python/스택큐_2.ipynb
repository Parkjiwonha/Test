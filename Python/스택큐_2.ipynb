{
 "cells": [
  {
   "cell_type": "markdown",
   "id": "2ef7cdab",
   "metadata": {},
   "source": [
    "## 프로그래머스-올바른 괄호 https://school.programmers.co.kr/learn/courses/30/lessons/12909"
   ]
  },
  {
   "cell_type": "markdown",
   "id": "ea7720e9",
   "metadata": {},
   "source": [
    "### 괄호가 바르게 짝지어졌다는 것은 '(' 문자로 열렸으면 반드시 짝지어서 ')' 문자로 닫혀야 한다는 뜻입니다. 예를 들어 \"()()\" 또는 \"(())()\" 는 올바른 괄호입니다. \")()(\" 또는 \"(()(\" 는 올바르지 않은 괄호입니다. '(' 또는 ')' 로만 이루어진 문자열 s가 주어졌을 때, 문자열 s가 올바른 괄호이면 true를 return 하고, 올바르지 않은 괄호이면 false를 return 하는 solution 함수를 완성해 주세요."
   ]
  },
  {
   "cell_type": "markdown",
   "id": "46f171f5",
   "metadata": {},
   "source": [
    "- 문자열 s의 길이 : 100,000 이하의 자연수\n",
    "- 문자열 s는 '(' 또는 ')' 로만 이루어져 있습니다."
   ]
  },
  {
   "cell_type": "code",
   "execution_count": 1,
   "id": "e6bb5c6f",
   "metadata": {},
   "outputs": [],
   "source": [
    "s=\"(())()\""
   ]
  },
  {
   "cell_type": "code",
   "execution_count": 7,
   "id": "7f67cd92",
   "metadata": {},
   "outputs": [],
   "source": [
    "def solution(s):\n",
    "    answer = True\n",
    "    num=0\n",
    "    \n",
    "    for i in s:\n",
    "        if i==\"(\":\n",
    "            num+=1\n",
    "        elif i==')':\n",
    "            num+=-1\n",
    "        \n",
    "        if num==-1:\n",
    "            return False\n",
    "        \n",
    "    if num!=0:\n",
    "        answer=False\n",
    "        \n",
    "    return answer"
   ]
  },
  {
   "cell_type": "code",
   "execution_count": 10,
   "id": "0f3ef941",
   "metadata": {},
   "outputs": [
    {
     "data": {
      "text/plain": [
       "True"
      ]
     },
     "execution_count": 10,
     "metadata": {},
     "output_type": "execute_result"
    }
   ],
   "source": [
    "solution(s)"
   ]
  },
  {
   "cell_type": "code",
   "execution_count": 9,
   "id": "38019ee6",
   "metadata": {},
   "outputs": [],
   "source": [
    "def solution(s):\n",
    "    answer=True\n",
    "    lis=list()\n",
    "    \n",
    "    for i in s:\n",
    "        if len(lis)==0:\n",
    "            lis.append(i)\n",
    "            continue\n",
    "        if lis[-1]+i==\"()\":\n",
    "            lis.pop()\n",
    "        else:\n",
    "            lis.append(i)\n",
    "            \n",
    "    if len(lis)!=0:\n",
    "        answer=False\n",
    "        \n",
    "    return answer"
   ]
  }
 ],
 "metadata": {
  "kernelspec": {
   "display_name": "Python 3",
   "language": "python",
   "name": "python3"
  },
  "language_info": {
   "codemirror_mode": {
    "name": "ipython",
    "version": 3
   },
   "file_extension": ".py",
   "mimetype": "text/x-python",
   "name": "python",
   "nbconvert_exporter": "python",
   "pygments_lexer": "ipython3",
   "version": "3.8.8"
  }
 },
 "nbformat": 4,
 "nbformat_minor": 5
}
