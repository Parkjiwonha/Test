{
 "cells": [
  {
   "cell_type": "markdown",
   "id": "57043ef3",
   "metadata": {},
   "source": [
    "## 프로그래머스_프린터 https://school.programmers.co.kr/learn/courses/30/lessons/42587"
   ]
  },
  {
   "cell_type": "markdown",
   "id": "1c6e4579",
   "metadata": {},
   "source": [
    "1. 인쇄 대기목록의 가장 앞에 있는 문서(J)를 대기목록에서 꺼냅니다.\n",
    "2. 나머지 인쇄 대기목록에서 J보다 중요도가 높은 문서가 한 개라도 존재하면 J를 대기목록의 가장 마지막에 넣습니다.\n",
    "3. 그렇지 않으면 J를 인쇄합니다.\n",
    "\n",
    "### 예를 들어, 4개의 문서(A, B, C, D)가 순서대로 인쇄 대기목록에 있고 중요도가 2 1 3 2 라면 C D A B 순으로 인쇄하게 됩니다. 내가 인쇄를 요청한 문서가 몇 번째로 인쇄되는지 알고 싶습니다. 위의 예에서 C는 1번째로, A는 3번째로 인쇄됩니다."
   ]
  },
  {
   "cell_type": "markdown",
   "id": "88251426",
   "metadata": {},
   "source": [
    "- 현재 대기목록에는 1개 이상 100개 이하의 문서가 있습니다.\n",
    "- 인쇄 작업의 중요도는 1~9로 표현하며 숫자가 클수록 중요하다는 뜻입니다.\n",
    "- location은 0 이상 (현재 대기목록에 있는 작업 수 - 1) 이하의 값을 가지며 대기목록의 가장 앞에 있으면 0, 두 번째에 있으면 1로 표현합니다."
   ]
  },
  {
   "cell_type": "code",
   "execution_count": 12,
   "id": "ad17c26f",
   "metadata": {},
   "outputs": [],
   "source": [
    "priorities=[2, 1, 3, 2]\n",
    "location=2"
   ]
  },
  {
   "cell_type": "code",
   "execution_count": null,
   "id": "cc4c6626",
   "metadata": {},
   "outputs": [],
   "source": [
    "from collections import deque\n",
    "\n",
    "def solution(priorities, location):\n",
    "    answer=0\n",
    "    lis=[0]*len(priorities)\n",
    "    priorities= deque(priorities)\n",
    "\n",
    "    while sum(priorities) !=0:\n",
    "\n",
    "        for i in range(len(priorities)):\n",
    "            x=priorities.popleft()\n",
    "            if x>=max(priorities) and lis[i] ==0:\n",
    "                answer+=1\n",
    "                lis[i]+=answer\n",
    "                priorities.append(0)\n",
    "\n",
    "            else:\n",
    "                priorities.append(x)\n",
    "        print(lis)  \n",
    "    return lis[location]\n",
    "\n",
    "#효율성x"
   ]
  },
  {
   "cell_type": "code",
   "execution_count": 13,
   "id": "4934d027",
   "metadata": {},
   "outputs": [],
   "source": [
    "def solution(priorities, location):\n",
    "    answer = 0\n",
    "    re,n=sorted(priorities, reverse=True),0\n",
    "    \n",
    "    while n<len(priorities):\n",
    "        \n",
    "        for i,p in enumerate(priorities):\n",
    "            if p==re[n]:\n",
    "                n+=1\n",
    "                answer+=1\n",
    "                \n",
    "                if i==location:\n",
    "                    return answer\n",
    "            else:\n",
    "                continue"
   ]
  },
  {
   "cell_type": "code",
   "execution_count": 14,
   "id": "a75fc8bb",
   "metadata": {},
   "outputs": [
    {
     "data": {
      "text/plain": [
       "1"
      ]
     },
     "execution_count": 14,
     "metadata": {},
     "output_type": "execute_result"
    }
   ],
   "source": [
    "solution(priorities, location)"
   ]
  },
  {
   "cell_type": "code",
   "execution_count": null,
   "id": "489d40ad",
   "metadata": {},
   "outputs": [],
   "source": [
    "\n",
    "def solution(priorities, location):\n",
    "    queue =  [(i,p) for i,p in enumerate(priorities)]\n",
    "    answer = 0\n",
    "    while True:\n",
    "        cur = queue.pop(0)\n",
    "        if any(cur[1] < q[1] for q in queue):\n",
    "            queue.append(cur)\n",
    "        else:\n",
    "            answer += 1\n",
    "            if cur[0] == location:\n",
    "                return answer\n"
   ]
  },
  {
   "cell_type": "code",
   "execution_count": null,
   "id": "a82e7cd5",
   "metadata": {},
   "outputs": [],
   "source": [
    "def solution(priorities, location):\n",
    "    jobs = len(priorities)\n",
    "    answer = 0\n",
    "    cursor = 0\n",
    "    while True:\n",
    "        if max(priorities) == priorities[cursor%jobs]:\n",
    "            priorities[cursor%jobs] = 0\n",
    "            answer += 1\n",
    "            if cursor%jobs == location:\n",
    "                break\n",
    "        cursor += 1   \n",
    "    return answer"
   ]
  }
 ],
 "metadata": {
  "kernelspec": {
   "display_name": "Python 3",
   "language": "python",
   "name": "python3"
  },
  "language_info": {
   "codemirror_mode": {
    "name": "ipython",
    "version": 3
   },
   "file_extension": ".py",
   "mimetype": "text/x-python",
   "name": "python",
   "nbconvert_exporter": "python",
   "pygments_lexer": "ipython3",
   "version": "3.8.8"
  }
 },
 "nbformat": 4,
 "nbformat_minor": 5
}
