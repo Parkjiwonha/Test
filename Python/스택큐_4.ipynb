{
 "cells": [
  {
   "cell_type": "markdown",
   "id": "51cded98",
   "metadata": {},
   "source": [
    "## 프로그래머스_다리를지나는 트럭https://school.programmers.co.kr/learn/courses/30/lessons/42583"
   ]
  },
  {
   "cell_type": "markdown",
   "id": "7b51aaaa",
   "metadata": {},
   "source": [
    "### 트럭이 다리를 건너려면 최소 몇 초가 걸리는지 알아내야 합니다. 다리에는 트럭이 최대 bridge_length대 올라갈 수 있으며, 다리는 weight 이하까지의 무게를 견딜 수 있습니다. 예를 들어, 트럭 2대가 올라갈 수 있고 무게를 10kg까지 견디는 다리가 있습니다. 무게가 [7, 4, 5, 6]kg인 트럭이 순서대로 최단 시간 안에 다리를 건너려면 8초가 소요됩니다."
   ]
  },
  {
   "cell_type": "markdown",
   "id": "804b0228",
   "metadata": {},
   "source": [
    "- bridge_length는 1 이상 10,000 이하입니다.\n",
    "- weight는 1 이상 10,000 이하입니다.\n",
    "- truck_weights의 길이는 1 이상 10,000 이하입니다.\n",
    "- 모든 트럭의 무게는 1 이상 weight 이하입니다."
   ]
  },
  {
   "cell_type": "code",
   "execution_count": 88,
   "id": "7eeef3bf",
   "metadata": {},
   "outputs": [],
   "source": [
    "from collections import deque"
   ]
  },
  {
   "cell_type": "code",
   "execution_count": 69,
   "id": "b8f15f8a",
   "metadata": {},
   "outputs": [],
   "source": [
    "bridge_length, weight, truck_weights=100,100,deque([10])"
   ]
  },
  {
   "cell_type": "code",
   "execution_count": 66,
   "id": "4ecb43a1",
   "metadata": {},
   "outputs": [],
   "source": [
    "bridge_length, weight, truck_weights=100,100,deque([10,10,10,10,10,10,10,10,10,10])"
   ]
  },
  {
   "cell_type": "code",
   "execution_count": 190,
   "id": "c1a96a01",
   "metadata": {},
   "outputs": [],
   "source": [
    "bridge_length, weight, truck_weights=2,10,[7,4,5,6]"
   ]
  },
  {
   "cell_type": "code",
   "execution_count": null,
   "id": "3600a9a4",
   "metadata": {},
   "outputs": [],
   "source": [
    "def solution(bridge_length, weight, truck_weights):\n",
    "    answer = 0\n",
    "    bridge=[0]*bridge_length\n",
    "    while bridge:\n",
    "        answer+=1\n",
    "        bridge.pop(0)\n",
    "\n",
    "        if truck_weights:\n",
    "            if sum(bridge)+truck_weights[0]<=weight:\n",
    "                bridge.append(truck_weights.pop(0))\n",
    "            else:\n",
    "                bridge.append(0)\n",
    "\n",
    "    return answer"
   ]
  },
  {
   "cell_type": "code",
   "execution_count": 189,
   "id": "84af3492",
   "metadata": {},
   "outputs": [
    {
     "data": {
      "text/plain": [
       "8"
      ]
     },
     "execution_count": 189,
     "metadata": {},
     "output_type": "execute_result"
    }
   ],
   "source": [
    "solution(bridge_length, weight, truck_weights)"
   ]
  }
 ],
 "metadata": {
  "kernelspec": {
   "display_name": "Python 3",
   "language": "python",
   "name": "python3"
  },
  "language_info": {
   "codemirror_mode": {
    "name": "ipython",
    "version": 3
   },
   "file_extension": ".py",
   "mimetype": "text/x-python",
   "name": "python",
   "nbconvert_exporter": "python",
   "pygments_lexer": "ipython3",
   "version": "3.8.8"
  }
 },
 "nbformat": 4,
 "nbformat_minor": 5
}
