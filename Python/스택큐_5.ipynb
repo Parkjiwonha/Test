{
 "cells": [
  {
   "cell_type": "markdown",
   "id": "b914c92d",
   "metadata": {},
   "source": [
    "## 프로그래머스_주식가격 https://school.programmers.co.kr/learn/courses/30/lessons/42584"
   ]
  },
  {
   "cell_type": "markdown",
   "id": "48964498",
   "metadata": {},
   "source": [
    "### 초 단위로 기록된 주식가격이 담긴 배열 prices가 매개변수로 주어질 때, 가격이 떨어지지 않은 기간은 몇 초인지를 return 하도록 solution 함수를 완성하세요."
   ]
  },
  {
   "cell_type": "markdown",
   "id": "9b34534b",
   "metadata": {},
   "source": [
    "- prices의 각 가격은 1 이상 10,000 이하인 자연수입니다.\n",
    "- prices의 길이는 2 이상 100,000 이하입니다."
   ]
  },
  {
   "cell_type": "code",
   "execution_count": 1,
   "id": "52e0c04c",
   "metadata": {},
   "outputs": [],
   "source": [
    "prices=[1, 2, 3, 2, 3]"
   ]
  },
  {
   "cell_type": "code",
   "execution_count": 2,
   "id": "30656d11",
   "metadata": {},
   "outputs": [],
   "source": [
    "from collections import deque\n",
    "\n",
    "def solution(prices):\n",
    "    answer=[]\n",
    "    prices=deque(prices)\n",
    "    \n",
    "    while len(prices)>1:\n",
    "        x=prices.popleft()\n",
    "        for i,j in enumerate(prices):\n",
    "            if x>j:\n",
    "                break\n",
    "        answer.append(i+1)\n",
    "        \n",
    "    answer.append(0)\n",
    "    return answer\n",
    "    "
   ]
  },
  {
   "cell_type": "code",
   "execution_count": 3,
   "id": "3d98a668",
   "metadata": {},
   "outputs": [
    {
     "data": {
      "text/plain": [
       "[4, 3, 1, 1, 0]"
      ]
     },
     "execution_count": 3,
     "metadata": {},
     "output_type": "execute_result"
    }
   ],
   "source": [
    "solution(prices)"
   ]
  }
 ],
 "metadata": {
  "kernelspec": {
   "display_name": "Python 3",
   "language": "python",
   "name": "python3"
  },
  "language_info": {
   "codemirror_mode": {
    "name": "ipython",
    "version": 3
   },
   "file_extension": ".py",
   "mimetype": "text/x-python",
   "name": "python",
   "nbconvert_exporter": "python",
   "pygments_lexer": "ipython3",
   "version": "3.8.8"
  }
 },
 "nbformat": 4,
 "nbformat_minor": 5
}
