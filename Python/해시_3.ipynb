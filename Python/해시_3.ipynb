{
 "cells": [
  {
   "cell_type": "code",
   "execution_count": null,
   "id": "b59a0f48",
   "metadata": {},
   "outputs": [],
   "source": [
    "## 프로그래머스 - 전화번호목록 https://school.programmers.co.kr/learn/courses/30/lessons/42577?language=python3"
   ]
  },
  {
   "cell_type": "markdown",
   "id": "2d2c420e",
   "metadata": {},
   "source": [
    "### 전화번호부에 적힌 전화번호를 담은 배열 phone_book 이 solution 함수의 매개변수로 주어질 때, 어떤 번호가 다른 번호의 접두어인 경우가 있으면 false를 그렇지 않으면 true를 return 하도록 solution 함수를 작성해주세요."
   ]
  },
  {
   "cell_type": "code",
   "execution_count": null,
   "id": "3cfc123e",
   "metadata": {},
   "outputs": [],
   "source": [
    "- phone_book의 길이는 1 이상 1,000,000 이하입니다.\n",
    "- 각 전화번호의 길이는 1 이상 20 이하입니다.\n",
    "- 같은 전화번호가 중복해서 들어있지 않습니다."
   ]
  },
  {
   "cell_type": "code",
   "execution_count": 26,
   "id": "37df7302",
   "metadata": {},
   "outputs": [],
   "source": [
    "phone_book=[\"118\",\"119\", \"97674223\", \"118524421\"]"
   ]
  },
  {
   "cell_type": "code",
   "execution_count": 27,
   "id": "7d881a7d",
   "metadata": {},
   "outputs": [],
   "source": [
    "def solution(phone_book):\n",
    "    answer = True\n",
    "    phone_book.sort(key=len)\n",
    "    \n",
    "    for x,y in enumerate(phone_book):\n",
    "        for j in phone_book[x+1:]:\n",
    "            if y==j[:len(y)]:\n",
    "                answer=False\n",
    "                return answer\n",
    "            \n",
    "    return answer"
   ]
  },
  {
   "cell_type": "markdown",
   "id": "6e431381",
   "metadata": {},
   "source": [
    "- 문자열 sort\n",
    "- 이중for문 효율성 저하"
   ]
  },
  {
   "cell_type": "code",
   "execution_count": 29,
   "id": "14312cdc",
   "metadata": {},
   "outputs": [],
   "source": [
    "def solution(phone_book):\n",
    "    answer = True\n",
    "    phone_book.sort()\n",
    "    \n",
    "    for x,y in enumerate(phone_book[:-1]):\n",
    "        if y==phone_book[x+1][:len(y)]:\n",
    "            answer=False\n",
    "            return answer\n",
    "            \n",
    "    return answer"
   ]
  },
  {
   "cell_type": "code",
   "execution_count": 30,
   "id": "6a81f577",
   "metadata": {},
   "outputs": [
    {
     "data": {
      "text/plain": [
       "False"
      ]
     },
     "execution_count": 30,
     "metadata": {},
     "output_type": "execute_result"
    }
   ],
   "source": [
    "solution(phone_book)"
   ]
  },
  {
   "cell_type": "code",
   "execution_count": null,
   "id": "ee20c1b8",
   "metadata": {},
   "outputs": [],
   "source": []
  }
 ],
 "metadata": {
  "kernelspec": {
   "display_name": "Python 3",
   "language": "python",
   "name": "python3"
  },
  "language_info": {
   "codemirror_mode": {
    "name": "ipython",
    "version": 3
   },
   "file_extension": ".py",
   "mimetype": "text/x-python",
   "name": "python",
   "nbconvert_exporter": "python",
   "pygments_lexer": "ipython3",
   "version": "3.8.8"
  }
 },
 "nbformat": 4,
 "nbformat_minor": 5
}
