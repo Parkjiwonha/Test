{
 "cells": [
  {
   "cell_type": "markdown",
   "id": "b1d89602",
   "metadata": {},
   "source": [
    "## 프로그래머스_위장 https://school.programmers.co.kr/learn/courses/30/lessons/42578"
   ]
  },
  {
   "cell_type": "markdown",
   "id": "ef6404fa",
   "metadata": {},
   "source": [
    "### 스파이가 가진 의상들이 담긴 2차원 배열 clothes가 주어질 때 서로 다른 옷의 조합의 수를 return 하도록 solution 함수를 작성해주세요."
   ]
  },
  {
   "cell_type": "markdown",
   "id": "e155eeb8",
   "metadata": {},
   "source": [
    "- clothes의 각 행은 [의상의 이름, 의상의 종류]로 이루어져 있습니다.\n",
    "- 스파이가 가진 의상의 수는 1개 이상 30개 이하입니다.\n",
    "- 같은 이름을 가진 의상은 존재하지 않습니다.\n",
    "- clothes의 모든 원소는 문자열로 이루어져 있습니다.\n",
    "- 모든 문자열의 길이는 1 이상 20 이하인 자연수이고 알파벳 소문자 또는 '_' 로만 이루어져 있습니다.\n",
    "- 스파이는 하루에 최소 한 개의 의상은 입습니다."
   ]
  },
  {
   "cell_type": "code",
   "execution_count": 96,
   "id": "659c9527",
   "metadata": {},
   "outputs": [],
   "source": [
    "clothes=[[\"yellow_hat\", \"headgear\"], [\"blue_sunglasses\", \"eyewear\"], [\"green_turban\", \"headgear\"]]"
   ]
  },
  {
   "cell_type": "code",
   "execution_count": 94,
   "id": "bcfc39db",
   "metadata": {},
   "outputs": [],
   "source": [
    "def solution(clothes):\n",
    "    dic ={}\n",
    "\n",
    "    for x,y in clothes:\n",
    "        if y in dic:\n",
    "            dic[y]+=1\n",
    "        else:\n",
    "            dic[y]=1\n",
    "\n",
    "    answer=1\n",
    "    for i in list(dic.values()):\n",
    "        answer=answer*(i+1)\n",
    "\n",
    "    return answer-1"
   ]
  },
  {
   "cell_type": "code",
   "execution_count": 95,
   "id": "13ff6bbe",
   "metadata": {},
   "outputs": [
    {
     "data": {
      "text/plain": [
       "5"
      ]
     },
     "execution_count": 95,
     "metadata": {},
     "output_type": "execute_result"
    }
   ],
   "source": [
    "solution(clothes)"
   ]
  }
 ],
 "metadata": {
  "kernelspec": {
   "display_name": "Python 3",
   "language": "python",
   "name": "python3"
  },
  "language_info": {
   "codemirror_mode": {
    "name": "ipython",
    "version": 3
   },
   "file_extension": ".py",
   "mimetype": "text/x-python",
   "name": "python",
   "nbconvert_exporter": "python",
   "pygments_lexer": "ipython3",
   "version": "3.8.8"
  }
 },
 "nbformat": 4,
 "nbformat_minor": 5
}
