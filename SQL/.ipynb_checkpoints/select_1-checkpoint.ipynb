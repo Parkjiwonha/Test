{
 "cells": [
  {
   "cell_type": "markdown",
   "id": "ecd200d8",
   "metadata": {},
   "source": [
    "## 프로그래머스 SQL 고득점kit"
   ]
  },
  {
   "cell_type": "code",
   "execution_count": null,
   "id": "b7e511ec",
   "metadata": {},
   "outputs": [],
   "source": [
    "# 인기있는 아이스크림\n",
    "\n",
    "SELECT FLAVOR\n",
    "FROM FIRST_HALF\n",
    "ORDER BY TOTAL_ORDER DESC, SHIPMENT_ID "
   ]
  },
  {
   "cell_type": "code",
   "execution_count": null,
   "id": "aabf49b1",
   "metadata": {},
   "outputs": [],
   "source": [
    "# 3월에 태어난 여성 회원 목록 출력하기\n",
    "\n",
    "SELECT MEMBER_ID, MEMBER_NAME, GENDER, DATE_FORMAT(DATE_OF_BIRTH,'%Y-%m-%d') AS DATE_OF_BIRTH\n",
    "FROM MEMBER_PROFILE\n",
    "WHERE MONTH(DATE_OF_BIRTH)=3\n",
    "AND TLNO IS NOT NULL\n",
    "AND GENDER='W'\n",
    "ORDER BY MEMBER_ID"
   ]
  },
  {
   "cell_type": "code",
   "execution_count": null,
   "id": "4e9c4c76",
   "metadata": {},
   "outputs": [],
   "source": [
    "# 조건에 맞는 도서리스트 검색하기\n",
    "\n",
    "SELECT BOOK_ID, DATE_FORMAT(PUBLISHED_DATE,'%Y-%m-%d')\n",
    "FROM BOOK\n",
    "WHERE YEAR(PUBLISHED_DATE)='2021' AND CATEGORY='인문'\n",
    "ORDER BY PUBLISHED_DATE"
   ]
  }
 ],
 "metadata": {
  "kernelspec": {
   "display_name": "Python 3",
   "language": "python",
   "name": "python3"
  },
  "language_info": {
   "codemirror_mode": {
    "name": "ipython",
    "version": 3
   },
   "file_extension": ".py",
   "mimetype": "text/x-python",
   "name": "python",
   "nbconvert_exporter": "python",
   "pygments_lexer": "ipython3",
   "version": "3.8.8"
  }
 },
 "nbformat": 4,
 "nbformat_minor": 5
}
