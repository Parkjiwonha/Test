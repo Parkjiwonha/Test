{
 "cells": [
  {
   "cell_type": "code",
   "execution_count": null,
   "id": "5f2e6a2e",
   "metadata": {},
   "outputs": [],
   "source": [
    "# 진료과별 총 예약 횟수 출력하기\n",
    "\n",
    "SELECT MCDP_CD AS 진료과코드, COUNT(PT_NO) AS 5월예약건수\n",
    "FROM APPOINTMENT\n",
    "WHERE YEAR(APNT_YMD)='2022' AND MONTH(APNT_YMD)='05'\n",
    "GROUP BY MCDP_CD\n",
    "ORDER BY 5월예약건수, 진료과코드"
   ]
  },
  {
   "cell_type": "code",
   "execution_count": null,
   "id": "e6d76817",
   "metadata": {},
   "outputs": [],
   "source": [
    "# 즐겨찾기가 가장 많은 식당 정보 출력하기\n",
    "\n",
    "#1차 시도 오류\n",
    "SELECT FOOD_TYPE, REST_ID, REST_NAME, FAVORITES\n",
    "FROM REST_INFO\n",
    "WHERE (REST_ID, FAVORITES) \n",
    "IN (SELECT REST_ID, MAX(FAVORITES) FROM REST_INFO GROUP BY FOOD_TYPE)\n",
    "ORDER BY FOOD_TYPE DESC\n",
    "\n",
    "# https://school.programmers.co.kr/questions/38703\n",
    "# 임의의 REST_ID가 선택되기 때문에 오류\n",
    "-------\n",
    "#2차 시도 REST_ID -> FOOD_TYPE\n",
    "SELECT FOOD_TYPE, REST_ID, REST_NAME, FAVORITES\n",
    "FROM REST_INFO\n",
    "WHERE (FOOD_TYPE, FAVORITES) \n",
    "IN (SELECT FOOD_TYPE, MAX(FAVORITES) FROM REST_INFO GROUP BY FOOD_TYPE)\n",
    "ORDER BY FOOD_TYPE DESC\n"
   ]
  },
  {
   "cell_type": "code",
   "execution_count": null,
   "id": "034a2ee6",
   "metadata": {},
   "outputs": [],
   "source": [
    "# 식품분류별 가장 비싼 식품의 정보 조회하기\n",
    "\n",
    "SELECT CATEGORY, PRICE, PRODUCT_NAME\n",
    "FROM FOOD_PRODUCT\n",
    "WHERE (CATEGORY, PRICE) IN (SELECT CATEGORY,MAX(PRICE) FROM FOOD_PRODUCT GROUP BY CATEGORY) \n",
    "AND CATEGORY IN (\"과자\",\"국\",\"김치\",\"식용유\")\n",
    "ORDER BY PRICE DESC"
   ]
  }
 ],
 "metadata": {
  "kernelspec": {
   "display_name": "Python 3",
   "language": "python",
   "name": "python3"
  },
  "language_info": {
   "codemirror_mode": {
    "name": "ipython",
    "version": 3
   },
   "file_extension": ".py",
   "mimetype": "text/x-python",
   "name": "python",
   "nbconvert_exporter": "python",
   "pygments_lexer": "ipython3",
   "version": "3.8.8"
  }
 },
 "nbformat": 4,
 "nbformat_minor": 5
}
