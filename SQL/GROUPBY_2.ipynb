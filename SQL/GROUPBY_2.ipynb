{
 "cells": [
  {
   "cell_type": "code",
   "execution_count": null,
   "id": "e432a964",
   "metadata": {},
   "outputs": [],
   "source": [
    "# 성분으로 구분한 아이스크림 총 주문량\n",
    "\n",
    "SELECT INGREDIENT_TYPE,SUM(TOTAL_ORDER) AS TOTAL_ORDER\n",
    "FROM FIRST_HALF A\n",
    "INNER JOIN ICECREAM_INFO B\n",
    "ON A.FLAVOR=B.FLAVOR\n",
    "GROUP BY INGREDIENT_TYPE\n",
    "ORDER BY TOTAL_ORDER"
   ]
  },
  {
   "cell_type": "code",
   "execution_count": null,
   "id": "9fb99146",
   "metadata": {},
   "outputs": [],
   "source": [
    "# 카테고리 별 도서 판매량 집계하기\n",
    "\n",
    "SELECT CATEGORY, SUM(SALES) AS TOTAL_SALES\n",
    "FROM BOOK_SALES A\n",
    "INNER JOIN BOOK B\n",
    "ON A.BOOK_ID=B.BOOK_ID\n",
    "WHERE SALES_DATE LIKE \"2022-01%\"\n",
    "GROUP BY CATEGORY\n",
    "ORDER BY CATEGORY"
   ]
  },
  {
   "cell_type": "code",
   "execution_count": null,
   "id": "7cf114b8",
   "metadata": {},
   "outputs": [],
   "source": [
    "# 저자 별 카테고리 별 매출액 집계하기\n",
    "\n",
    "SELECT A.AUTHOR_ID, AUTHOR_NAME, CATEGORY, SUM(SALES*PRICE) AS TOTAL_SALES\n",
    "FROM BOOK A\n",
    "INNER JOIN BOOK_SALES B ON A.BOOK_ID=B.BOOK_ID\n",
    "INNER JOIN AUTHOR C ON A.AUTHOR_ID=C.AUTHOR_ID\n",
    "WHERE SALES_DATE LIKE \"2022-01%\"\n",
    "GROUP BY A.AUTHOR_ID, A.CATEGORY\n",
    "ORDER BY A.AUTHOR_ID, CATEGORY DESC"
   ]
  }
 ],
 "metadata": {
  "kernelspec": {
   "display_name": "Python 3",
   "language": "python",
   "name": "python3"
  },
  "language_info": {
   "codemirror_mode": {
    "name": "ipython",
    "version": 3
   },
   "file_extension": ".py",
   "mimetype": "text/x-python",
   "name": "python",
   "nbconvert_exporter": "python",
   "pygments_lexer": "ipython3",
   "version": "3.8.8"
  }
 },
 "nbformat": 4,
 "nbformat_minor": 5
}
