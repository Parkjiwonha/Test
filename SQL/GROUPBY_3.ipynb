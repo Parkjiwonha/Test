{
 "cells": [
  {
   "cell_type": "code",
   "execution_count": null,
   "id": "45971e12",
   "metadata": {},
   "outputs": [],
   "source": [
    "#고양이와 개는 몇 마리 있을까\n",
    "\n",
    "SELECT ANIMAL_TYPE, COUNT(*)\n",
    "FROM ANIMAL_INS\n",
    "WHERE ANIMAL_TYPE IN ('Cat','Dog')\n",
    "GROUP BY ANIMAL_TYPE\n",
    "ORDER BY ANIMAL_TYPE"
   ]
  },
  {
   "cell_type": "code",
   "execution_count": null,
   "id": "011bdd4e",
   "metadata": {},
   "outputs": [],
   "source": [
    "#입양 시각 구하기(1)\n",
    "\n",
    "SELECT HOUR(DATETIME) AS HOUR, COUNT(*)\n",
    "FROM ANIMAL_OUTS\n",
    "WHERE DATE_FORMAT(DATETIME,'%H') BETWEEN 9 AND 19\n",
    "GROUP BY HOUR\n",
    "ORDER BY HOUR\n",
    "\n",
    "# 실행순서 FROM - WHERE - GROUP BY - HAVING - SELECT - ORDER BY\n",
    "# AS는 GROUP BY절 이후부터 인식하기 때문에 WHERE절에서 사용할수 없다.\n",
    "\n",
    "SELECT HOUR(DATETIME) AS HOUR, COUNT(*)\n",
    "FROM ANIMAL_OUTS\n",
    "GROUP BY HOUR\n",
    "HAVING HOUR BETWEEN 9 AND 19\n",
    "ORDER BY HOUR"
   ]
  },
  {
   "cell_type": "code",
   "execution_count": null,
   "id": "5297b5b6",
   "metadata": {},
   "outputs": [],
   "source": [
    "#입양 시각 구하기(2)\n",
    "\n",
    "SET @HOUR := -1;\n",
    "\n",
    "SELECT (@HOUR := @HOUR+1) AS HOUR, \n",
    "(SELECT COUNT(*) FROM ANIMAL_OUTS WHERE HOUR(DATETIME)=@HOUR) AS COUNT\n",
    "FROM ANIMAL_OUTS\n",
    "WHERE @HOUR <23\n",
    "ORDER BY HOUR\n",
    "\n",
    "# := 대입, = 비교연산자"
   ]
  }
 ],
 "metadata": {
  "kernelspec": {
   "display_name": "Python 3",
   "language": "python",
   "name": "python3"
  },
  "language_info": {
   "codemirror_mode": {
    "name": "ipython",
    "version": 3
   },
   "file_extension": ".py",
   "mimetype": "text/x-python",
   "name": "python",
   "nbconvert_exporter": "python",
   "pygments_lexer": "ipython3",
   "version": "3.8.8"
  }
 },
 "nbformat": 4,
 "nbformat_minor": 5
}
