{
 "cells": [
  {
   "cell_type": "code",
   "execution_count": null,
   "id": "d2421c90",
   "metadata": {},
   "outputs": [],
   "source": [
    "# 대여 횟수가 많은 자동차들의 월별 대여 횟수 구하기\n",
    "\n",
    "SELECT MONTH(START_DATE) AS MONTH, CAR_ID, COUNT(*) AS RECORDS\n",
    "FROM CAR_RENTAL_COMPANY_RENTAL_HISTORY\n",
    "WHERE (MONTH(START_DATE) BETWEEN 8 AND 10) \n",
    "AND CAR_ID IN (SELECT CAR_ID\n",
    "                FROM CAR_RENTAL_COMPANY_RENTAL_HISTORY\n",
    "               WHERE MONTH(START_DATE) BETWEEN 8 AND 10 \n",
    "               GROUP BY CAR_ID\n",
    "               HAVING COUNT(*)>=5)\n",
    "GROUP BY MONTH(START_DATE), CAR_ID\n",
    "ORDER BY MONTH(START_DATE), CAR_ID DESC"
   ]
  },
  {
   "cell_type": "code",
   "execution_count": null,
   "id": "4f6e0791",
   "metadata": {},
   "outputs": [],
   "source": [
    "# 동명 동물 수 찾기\n",
    "\n",
    "SELECT NAME, COUNT(NAME) AS COUNT\n",
    "FROM ANIMAL_INS\n",
    "GROUP BY NAME\n",
    "HAVING COUNT>=2\n",
    "ORDER BY NAME\n",
    "\n",
    "-----\n",
    "\n",
    "SELECT NAME, COUNT(*) AS COUNT\n",
    "FROM ANIMAL_INS\n",
    "WHERE NAME IS NOT NULL\n",
    "GROUP BY NAME\n",
    "HAVING COUNT>=2\n",
    "ORDER BY NAME"
   ]
  },
  {
   "cell_type": "code",
   "execution_count": null,
   "id": "bbf08f8a",
   "metadata": {},
   "outputs": [],
   "source": [
    "# 년, 월, 성별 별 상품 구매 회원 수 구하기\n",
    "\n",
    "SELECT YEAR(SALES_DATE) AS YEAR, MONTH(SALES_DATE) AS MONTH, GENDER, COUNT(DISTINCT A.USER_ID) AS USERS\n",
    "FROM USER_INFO A\n",
    "JOIN ONLINE_SALE B\n",
    "ON A.USER_ID=B.USER_ID\n",
    "WHERE GENDER IS NOT NULL\n",
    "GROUP BY YEAR(SALES_DATE), MONTH(SALES_DATE), GENDER\n",
    "ORDER BY YEAR,MONTH,GENDER"
   ]
  },
  {
   "cell_type": "code",
   "execution_count": null,
   "id": "34e9b507",
   "metadata": {},
   "outputs": [],
   "source": [
    "# 가격대 별 상품 개수 구하기\n",
    "\n",
    "SELECT TRUNCATE(PRICE,-4) AS PRICE_GROUP, COUNT(*) AS PRODUCTS\n",
    "FROM PRODUCT\n",
    "GROUP BY PRICE_GROUP\n",
    "ORDER BY PRICE_GROUP"
   ]
  }
 ],
 "metadata": {
  "kernelspec": {
   "display_name": "Python 3",
   "language": "python",
   "name": "python3"
  },
  "language_info": {
   "codemirror_mode": {
    "name": "ipython",
    "version": 3
   },
   "file_extension": ".py",
   "mimetype": "text/x-python",
   "name": "python",
   "nbconvert_exporter": "python",
   "pygments_lexer": "ipython3",
   "version": "3.8.8"
  }
 },
 "nbformat": 4,
 "nbformat_minor": 5
}
