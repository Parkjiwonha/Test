{
 "cells": [
  {
   "cell_type": "code",
   "execution_count": null,
   "id": "d9c5af22",
   "metadata": {},
   "outputs": [],
   "source": [
    "# 경기도에 위치한 식품창고 목록 출력하기\n",
    "\n",
    "SELECT WAREHOUSE_ID, WAREHOUSE_NAME, ADDRESS, \n",
    "IF (FREEZER_YN IS NULL, 'N',FREEZER_YN) AS FREEZER_YN\n",
    "FROM FOOD_WAREHOUSE\n",
    "WHERE ADDRESS LIKE \"경기도%\"\n",
    "ORDER BY WAREHOUSE_ID "
   ]
  },
  {
   "cell_type": "code",
   "execution_count": null,
   "id": "a9829d35",
   "metadata": {},
   "outputs": [],
   "source": [
    "# 이름 없는 동물의 아이디\n",
    "\n",
    "SELECT ANIMAL_ID\n",
    "FROM ANIMAL_INS\n",
    "WHERE NAME IS NULL\n",
    "ORDER BY ANIMAL_ID\n",
    "\n",
    "# 이름 있는 동물의 아이디\n",
    "\n",
    "SELECT ANIMAL_ID\n",
    "FROM ANIMAL_INS\n",
    "WHERE NAME IS NOT NULL\n",
    "ORDER BY ANIMAL_ID"
   ]
  },
  {
   "cell_type": "code",
   "execution_count": null,
   "id": "88d74f04",
   "metadata": {},
   "outputs": [],
   "source": [
    "# NULL 처리하기\n",
    "\n",
    "SELECT ANIMAL_TYPE, IF (NAME IS NULL, \"No name\",NAME) AS NAME, SEX_UPON_INTAKE\n",
    "FROM ANIMAL_INS\n",
    "ORDER BY ANIMAL_ID"
   ]
  },
  {
   "cell_type": "code",
   "execution_count": null,
   "id": "68d2f401",
   "metadata": {},
   "outputs": [],
   "source": [
    "# IS NULL\n",
    "\n",
    "SELECT COUNT(*) AS USERS\n",
    "FROM USER_INFO\n",
    "WHERE AGE IS NULL"
   ]
  }
 ],
 "metadata": {
  "kernelspec": {
   "display_name": "Python 3",
   "language": "python",
   "name": "python3"
  },
  "language_info": {
   "codemirror_mode": {
    "name": "ipython",
    "version": 3
   },
   "file_extension": ".py",
   "mimetype": "text/x-python",
   "name": "python",
   "nbconvert_exporter": "python",
   "pygments_lexer": "ipython3",
   "version": "3.8.8"
  }
 },
 "nbformat": 4,
 "nbformat_minor": 5
}
