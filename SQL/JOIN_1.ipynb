{
 "cells": [
  {
   "cell_type": "code",
   "execution_count": null,
   "id": "164a9933",
   "metadata": {},
   "outputs": [],
   "source": [
    "# 조건에 맞는 도서와 저자 리스트 출력하기\n",
    "\n",
    "SELECT BOOK_ID, AUTHOR_NAME, DATE_FORMAT(PUBLISHED_DATE,\"%Y-%m-%d\") AS PUBLISHED_DATE\n",
    "FROM BOOK B\n",
    "INNER JOIN AUTHOR A\n",
    "ON A.AUTHOR_ID=B.AUTHOR_ID\n",
    "WHERE B.CATEGORY='경제'\n",
    "ORDER BY PUBLISHED_DATE"
   ]
  },
  {
   "cell_type": "code",
   "execution_count": null,
   "id": "64e0c790",
   "metadata": {},
   "outputs": [],
   "source": [
    "# 그룹별 조건에 맞는 식당 목록 출력하기\n",
    "\n",
    "SELECT MEMBER_NAME, REVIEW_TEXT, DATE_FORMAT(REVIEW_DATE,\"%Y-%m-%d\") AS REVIEW_DATE\n",
    "FROM REST_REVIEW\n",
    "LEFT JOIN MEMBER_PROFILE\n",
    "ON MEMBER_PROFILE.MEMBER_ID=REST_REVIEW.MEMBER_ID\n",
    "WHERE MEMBER_PROFILE.MEMBER_ID = (SELECT MEMBER_ID\n",
    "                    FROM REST_REVIEW\n",
    "                    GROUP BY MEMBER_ID\n",
    "                    ORDER BY COUNT(*) DESC\n",
    "                    LIMIT 1)\n",
    "ORDER BY 3,2"
   ]
  },
  {
   "cell_type": "code",
   "execution_count": null,
   "id": "ce88ac7b",
   "metadata": {},
   "outputs": [],
   "source": [
    "# 있었는데요 없었습니다\n",
    "\n",
    "SELECT I.ANIMAL_ID, I.NAME\n",
    "FROM ANIMAL_INS I\n",
    "JOIN ANIMAL_OUTS O\n",
    "ON I.ANIMAL_ID=O.ANIMAL_ID\n",
    "WHERE I.DATETIME > O.DATETIME\n",
    "ORDER BY I.DATETIME"
   ]
  }
 ],
 "metadata": {
  "kernelspec": {
   "display_name": "Python 3",
   "language": "python",
   "name": "python3"
  },
  "language_info": {
   "codemirror_mode": {
    "name": "ipython",
    "version": 3
   },
   "file_extension": ".py",
   "mimetype": "text/x-python",
   "name": "python",
   "nbconvert_exporter": "python",
   "pygments_lexer": "ipython3",
   "version": "3.8.8"
  }
 },
 "nbformat": 4,
 "nbformat_minor": 5
}
