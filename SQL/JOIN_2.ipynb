{
 "cells": [
  {
   "cell_type": "code",
   "execution_count": null,
   "id": "eba72e02",
   "metadata": {},
   "outputs": [],
   "source": [
    "# 상품 별 오프라인 매출 구하기\n",
    "\n",
    "SELECT PRODUCT_CODE, (SUM(SALES_AMOUNT)*PRICE) AS SALES\n",
    "FROM PRODUCT P\n",
    "JOIN OFFLINE_SALE O\n",
    "ON P.PRODUCT_ID=O.PRODUCT_ID\n",
    "GROUP BY PRODUCT_CODE\n",
    "ORDER BY SALES DESC, PRODUCT_CODE"
   ]
  },
  {
   "cell_type": "code",
   "execution_count": null,
   "id": "008f9553",
   "metadata": {},
   "outputs": [],
   "source": [
    "# 없어진 기록찾기\n",
    "\n",
    "SELECT ANIMAL_ID,NAME\n",
    "FROM ANIMAL_OUTS\n",
    "WHERE (ANIMAL_ID,NAME) NOT IN (SELECT ANIMAL_ID,NAME\n",
    "                              FROM ANIMAL_INS)\n",
    "ORDER BY ANIMAL_ID\n",
    "--------\n",
    "SELECT O.ANIMAL_ID, O.NAME\n",
    "FROM ANIMAL_OUTS O\n",
    "LEFT JOIN ANIMAL_INS I\n",
    "ON O.ANIMAL_ID = I.ANIMAL_ID\n",
    "WHERE I.ANIMAL_ID IS NULL\n",
    "ORDER BY ANIMAL_ID"
   ]
  },
  {
   "cell_type": "code",
   "execution_count": null,
   "id": "b2ff6f26",
   "metadata": {},
   "outputs": [],
   "source": [
    "# 보호소에서 중성화한 동물\n",
    "\n",
    "SELECT A.ANIMAL_ID, A.ANIMAL_TYPE, A.NAME\n",
    "FROM ANIMAL_INS A\n",
    "JOIN ANIMAL_OUTS B\n",
    "ON A.ANIMAL_ID=B.ANIMAL_ID\n",
    "WHERE SEX_UPON_INTAKE LIKE 'intact%' AND SEX_UPON_OUTCOME NOT LIKE 'intact%'\n",
    "ORDER BY 1"
   ]
  }
 ],
 "metadata": {
  "kernelspec": {
   "display_name": "Python 3",
   "language": "python",
   "name": "python3"
  },
  "language_info": {
   "codemirror_mode": {
    "name": "ipython",
    "version": 3
   },
   "file_extension": ".py",
   "mimetype": "text/x-python",
   "name": "python",
   "nbconvert_exporter": "python",
   "pygments_lexer": "ipython3",
   "version": "3.8.8"
  }
 },
 "nbformat": 4,
 "nbformat_minor": 5
}
