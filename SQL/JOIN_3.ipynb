{
 "cells": [
  {
   "cell_type": "code",
   "execution_count": null,
   "id": "b75da785",
   "metadata": {},
   "outputs": [],
   "source": [
    "# 주문량이 많은 아이스크림들 조회하기\n",
    "\n",
    "SELECT J.FLAVOR\n",
    "FROM JULY J\n",
    "JOIN FIRST_HALF F\n",
    "ON J.FLAVOR=F.FLAVOR\n",
    "GROUP BY J.FLAVOR\n",
    "ORDER BY (SUM(J.TOTAL_ORDER)+F.TOTAL_ORDER) DESC\n",
    "LIMIT 3"
   ]
  },
  {
   "cell_type": "code",
   "execution_count": null,
   "id": "8214e165",
   "metadata": {},
   "outputs": [],
   "source": [
    "# 5월 식품들의 총매출 조회하기\n",
    "\n",
    "SELECT P.PRODUCT_ID,PRODUCT_NAME,(PRICE*SUM(AMOUNT)) AS TOTAL_SALES\n",
    "FROM FOOD_PRODUCT P\n",
    "JOIN FOOD_ORDER O\n",
    "ON P.PRODUCT_ID=O.PRODUCT_ID\n",
    "WHERE YEAR(O.PRODUCE_DATE)=2022 AND MONTH(O.PRODUCE_DATE)=5\n",
    "GROUP BY P.PRODUCT_ID\n",
    "ORDER BY TOTAL_SALES DESC, PRODUCT_ID"
   ]
  },
  {
   "cell_type": "code",
   "execution_count": null,
   "id": "c0e56c47",
   "metadata": {},
   "outputs": [],
   "source": [
    "# 오랜 기간 보호한 동물(1)\n",
    "\n",
    "SELECT NAME, DATETIME\n",
    "FROM ANIMAL_INS\n",
    "WHERE ANIMAL_ID NOT IN (SELECT ANIMAL_ID FROM ANIMAL_OUTS)\n",
    "ORDER BY DATETIME\n",
    "LIMIT 3"
   ]
  },
  {
   "cell_type": "code",
   "execution_count": null,
   "id": "c3d67b2d",
   "metadata": {},
   "outputs": [],
   "source": [
    "# 상품을 구매한 회원 비율 구하기\n",
    "\n",
    "SELECT  YEAR(SALES_DATE), MONTH(SALES_DATE), COUNT(DISTINCT O.USER_ID) AS PUCHASED_USERS, ROUND(COUNT(DISTINCT O.USER_ID)/(SELECT COUNT(DISTINCT USER_ID) FROM USER_INFO WHERE YEAR(JOINED)=2021),1) AS PUCHASED_RATIO\n",
    "FROM ONLINE_SALE O\n",
    "JOIN USER_INFO U\n",
    "ON O.USER_ID=U.USER_ID\n",
    "WHERE YEAR(JOINED)=2021\n",
    "GROUP BY YEAR(SALES_DATE),MONTH(SALES_DATE)\n",
    "ORDER BY 1,2"
   ]
  }
 ],
 "metadata": {
  "kernelspec": {
   "display_name": "Python 3",
   "language": "python",
   "name": "python3"
  },
  "language_info": {
   "codemirror_mode": {
    "name": "ipython",
    "version": 3
   },
   "file_extension": ".py",
   "mimetype": "text/x-python",
   "name": "python",
   "nbconvert_exporter": "python",
   "pygments_lexer": "ipython3",
   "version": "3.8.8"
  }
 },
 "nbformat": 4,
 "nbformat_minor": 5
}
