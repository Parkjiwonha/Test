{
 "cells": [
  {
   "cell_type": "code",
   "execution_count": null,
   "id": "d9fb8099",
   "metadata": {},
   "outputs": [],
   "source": [
    "# 과일로 만든 아이스크림 고르기\n",
    "\n",
    "SELECT F.FLAVOR\n",
    "FROM FIRST_HALF F\n",
    "JOIN ICECREAM_INFO I ON F.FLAVOR=I.FLAVOR\n",
    "WHERE TOTAL_ORDER>3000 AND INGREDIENT_TYPE='fruit_based'\n",
    "ORDER BY TOTAL_ORDER DESC"
   ]
  },
  {
   "cell_type": "code",
   "execution_count": null,
   "id": "82a41fa6",
   "metadata": {},
   "outputs": [],
   "source": [
    "# 서울에 위치한 식당 목록 출력하기\n",
    "\n",
    "SELECT I.REST_ID, I.REST_NAME, I.FOOD_TYPE, I.FAVORITES, I.ADDRESS, ROUND(AVG(REVIEW_SCORE),2) AS SCORE\n",
    "FROM REST_INFO I\n",
    "JOIN REST_REVIEW R ON I.REST_ID=R.REST_ID \n",
    "GROUP BY I.REST_ID\n",
    "HAVING ADDRESS LIKE '서울%'\n",
    "ORDER BY SCORE DESC, FAVORITES DESC "
   ]
  },
  {
   "cell_type": "code",
   "execution_count": null,
   "id": "d9c2d4ac",
   "metadata": {},
   "outputs": [],
   "source": [
    "# 온오프라인 판매데이터 통합하기\n",
    "\n",
    "SELECT DATE_FORMAT(SALES_DATE,'%Y-%m-%d') AS SALES_DATE, PRODUCT_ID, USER_ID, SALES_AMOUNT\n",
    "FROM ONLINE_SALE N\n",
    "WHERE SALES_DATE LIKE '2022-03%'\n",
    "UNION ALL\n",
    "\n",
    "SELECT DATE_FORMAT(SALES_DATE,'%Y-%m-%d') AS SALES_DATE, PRODUCT_ID, NULL AS USER_ID, SALES_AMOUNT\n",
    "FROM OFFLINE_SALE F\n",
    "WHERE SALES_DATE LIKE '2022-03%'\n",
    "\n",
    "ORDER BY SALES_DATE, PRODUCT_ID, USER_ID\n",
    "----------\n",
    "\n",
    "WHERE MONTH(SALES_DATE)='03' AND YEAR(SALES_DATE)='2022'\n",
    "\n",
    "----------\n",
    "\n",
    "WHERE SALES_DATE>=STR_TO_DATE('2022-03-01', '%Y-%m-%d') \n",
    "\n",
    "----------\n",
    "\n",
    "WHE\n"
   ]
  }
 ],
 "metadata": {
  "kernelspec": {
   "display_name": "Python 3",
   "language": "python",
   "name": "python3"
  },
  "language_info": {
   "codemirror_mode": {
    "name": "ipython",
    "version": 3
   },
   "file_extension": ".py",
   "mimetype": "text/x-python",
   "name": "python",
   "nbconvert_exporter": "python",
   "pygments_lexer": "ipython3",
   "version": "3.8.8"
  }
 },
 "nbformat": 4,
 "nbformat_minor": 5
}
