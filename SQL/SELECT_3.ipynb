{
 "cells": [
  {
   "cell_type": "code",
   "execution_count": null,
   "id": "7fc7048a",
   "metadata": {},
   "outputs": [],
   "source": [
    "# 재구매가 일어난 상품과 회원 리스트 구하기\n",
    "\n",
    "SELECT USER_ID, PRODUCT_ID\n",
    "FROM ONLINE_SALE\n",
    "GROUP BY USER_ID, PRODUCT_ID \n",
    "HAVING COUNT(*)>=2\n",
    "ORDER BY USER_ID, PRODUCT_ID DESC"
   ]
  },
  {
   "cell_type": "code",
   "execution_count": null,
   "id": "74ccef0b",
   "metadata": {},
   "outputs": [],
   "source": [
    "# 강원도에 위치한 생산공장 목록 출력하기\n",
    "\n",
    "SELECT FACTORY_ID, FACTORY_NAME, ADDRESS\n",
    "FROM FOOD_FACTORY\n",
    "WHERE ADDRESS LIKE '강원도%'\n",
    "ORDER BY FACTORY_ID"
   ]
  },
  {
   "cell_type": "code",
   "execution_count": null,
   "id": "98989b7c",
   "metadata": {},
   "outputs": [],
   "source": [
    "# 여러기준으로 정렬하기\n",
    "\n",
    "SELECT ANIMAL_ID, NAME, DATETIME\n",
    "FROM ANIMAL_INS\n",
    "ORDER BY NAME, DATETIME DESC"
   ]
  },
  {
   "cell_type": "code",
   "execution_count": null,
   "id": "13baebc5",
   "metadata": {},
   "outputs": [],
   "source": [
    "# 상위 N개 레코드\n",
    "\n",
    "SELECT NAME\n",
    "FROM ANIMAL_INS\n",
    "ORDER BY DATETIME \n",
    "LIMIT 1"
   ]
  },
  {
   "cell_type": "code",
   "execution_count": null,
   "id": "2d804ca3",
   "metadata": {},
   "outputs": [],
   "source": [
    "# 조건에 맞는 회원수 구하기\n",
    "\n",
    "SELECT COUNT(*)\n",
    "FROM USER_INFO\n",
    "WHERE YEAR(JOINED)=2021 AND (AGE BETWEEN 20 AND 29)"
   ]
  },
  {
   "cell_type": "code",
   "execution_count": null,
   "id": "4b191ac4",
   "metadata": {},
   "outputs": [],
   "source": [
    "# 아픈 동물찾기\n",
    "\n",
    "SELECT ANIMAL_ID, NAME\n",
    "FROM ANIMAL_INS \n",
    "WHERE INTAKE_CONDITION='Sick'\n",
    "ORDER BY ANIMAL_ID"
   ]
  }
 ],
 "metadata": {
  "kernelspec": {
   "display_name": "Python 3",
   "language": "python",
   "name": "python3"
  },
  "language_info": {
   "codemirror_mode": {
    "name": "ipython",
    "version": 3
   },
   "file_extension": ".py",
   "mimetype": "text/x-python",
   "name": "python",
   "nbconvert_exporter": "python",
   "pygments_lexer": "ipython3",
   "version": "3.8.8"
  }
 },
 "nbformat": 4,
 "nbformat_minor": 5
}
