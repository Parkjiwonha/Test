{
 "cells": [
  {
   "cell_type": "code",
   "execution_count": null,
   "id": "85cf2f1c",
   "metadata": {},
   "outputs": [],
   "source": [
    "# 가장 비싼 상품 구하기\n",
    "\n",
    "SELECT MAX(PRICE) AS MAX_PRICE\n",
    "FROM PRODUCT"
   ]
  },
  {
   "cell_type": "code",
   "execution_count": null,
   "id": "a45a2b13",
   "metadata": {},
   "outputs": [],
   "source": [
    "# 가격이 제일 비싼 식품의 정보 출력하기\n",
    "\n",
    "SELECT *\n",
    "FROM FOOD_PRODUCT\n",
    "WHERE PRICE = (SELECT MAX(PRICE) FROM FOOD_PRODUCT)"
   ]
  },
  {
   "cell_type": "code",
   "execution_count": null,
   "id": "87ac086a",
   "metadata": {},
   "outputs": [],
   "source": [
    "# 최댓값 구하기\n",
    "\n",
    "SELECT MAX(DATETIME)\n",
    "FROM ANIMAL_INS\n",
    "\n",
    "# 최솟값 구하기\n",
    "\n",
    "SELECT MIN(DATETIME)\n",
    "FROM ANIMAL_INS"
   ]
  },
  {
   "cell_type": "code",
   "execution_count": null,
   "id": "3ef823fd",
   "metadata": {},
   "outputs": [],
   "source": [
    "# 동물수 구하기\n",
    "\n",
    "SELECT COUNT(*)\n",
    "FROM ANIMAL_INS"
   ]
  },
  {
   "cell_type": "code",
   "execution_count": null,
   "id": "1bee61f1",
   "metadata": {},
   "outputs": [],
   "source": [
    "# 중복제거하기\n",
    "\n",
    "SELECT COUNT(DISTINCT NAME)\n",
    "FROM ANIMAL_INS\n",
    "WHERE NAME IS NOT NULL"
   ]
  }
 ],
 "metadata": {
  "kernelspec": {
   "display_name": "Python 3",
   "language": "python",
   "name": "python3"
  },
  "language_info": {
   "codemirror_mode": {
    "name": "ipython",
    "version": 3
   },
   "file_extension": ".py",
   "mimetype": "text/x-python",
   "name": "python",
   "nbconvert_exporter": "python",
   "pygments_lexer": "ipython3",
   "version": "3.8.8"
  }
 },
 "nbformat": 4,
 "nbformat_minor": 5
}
