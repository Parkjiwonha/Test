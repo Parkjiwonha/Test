{
 "cells": [
  {
   "cell_type": "markdown",
   "id": "c16f1237",
   "metadata": {},
   "source": [
    "## 프로그래머스 - 완주하지 못한 선수"
   ]
  },
  {
   "cell_type": "markdown",
   "id": "5fe94ebb",
   "metadata": {},
   "source": [
    "### 수많은 마라톤 선수들이 마라톤에 참여하였습니다. 단 한 명의 선수를 제외하고는 모든 선수가 마라톤을 완주하였습니다.마라톤에 참여한 선수들의 이름이 담긴 배열 participant와 완주한 선수들의 이름이 담긴 배열 completion이 주어질 때, 완주하지 못한 선수의 이름을 return 하도록 solution 함수를 작성해주세요.\n",
    "\n",
    "- 마라톤 경기에 참여한 선수의 수는 1명 이상 100,000명 이하입니다. \n",
    "- completion의 길이는 participant의 길이보다 1 작습니다. \n",
    "- 참가자의 이름은 1개 이상 20개 이하의 알파벳 소문자로 이루어져 있습니다. \n",
    "- 참가자 중에는 동명이인이 있을 수 있습니다."
   ]
  },
  {
   "cell_type": "code",
   "execution_count": 1,
   "id": "60c64bdb",
   "metadata": {},
   "outputs": [],
   "source": [
    "participant=[\"mislav\", \"stanko\", \"mislav\", \"ana\"]\n",
    "completion=[\"stanko\", \"ana\", \"mislav\"]"
   ]
  },
  {
   "cell_type": "markdown",
   "id": "9e0d4ed4",
   "metadata": {},
   "source": [
    "#### 순차탐색"
   ]
  },
  {
   "cell_type": "code",
   "execution_count": 2,
   "id": "f03a736a",
   "metadata": {},
   "outputs": [],
   "source": [
    "def solution(participant, completion):\n",
    "    for x in completion:\n",
    "        if x in participant:\n",
    "            participant.remove(x)\n",
    "    else:\n",
    "        return participant[0]"
   ]
  },
  {
   "cell_type": "markdown",
   "id": "90c4fbd5",
   "metadata": {},
   "source": [
    "#### 정렬"
   ]
  },
  {
   "cell_type": "code",
   "execution_count": 3,
   "id": "4aad1302",
   "metadata": {},
   "outputs": [],
   "source": [
    "def solution(participant, completion):\n",
    "    \n",
    "    participant.sort()\n",
    "    completion.sort()\n",
    "    \n",
    "    for i in range(len(completion)):\n",
    "        if participant[i]!=completion[i]:\n",
    "            return participant[i]\n",
    "    else:\n",
    "        return participant[-1]"
   ]
  },
  {
   "cell_type": "code",
   "execution_count": 4,
   "id": "279c419b",
   "metadata": {},
   "outputs": [],
   "source": [
    "# zip\n",
    "\n",
    "def solution(participant, completion):\n",
    "    \n",
    "    participant.sort()\n",
    "    completion.sort()\n",
    "    \n",
    "    for p,c in zip(participant,completion):\n",
    "        if p!=c:\n",
    "            return p\n",
    "    return participant[-1]"
   ]
  },
  {
   "cell_type": "markdown",
   "id": "365b1cb0",
   "metadata": {},
   "source": [
    "#### 해시"
   ]
  },
  {
   "cell_type": "code",
   "execution_count": 5,
   "id": "fb59682f",
   "metadata": {},
   "outputs": [],
   "source": [
    "def solution(participant, completion):\n",
    "    \n",
    "    answer=''\n",
    "    temp=0\n",
    "    dic={}\n",
    "    \n",
    "    for i in participant:\n",
    "        dic[hash(i)]=i\n",
    "        temp +=hash(i)\n",
    "    for j in completion:\n",
    "        temp -=hash(j)\n",
    "        \n",
    "    answer=dic[temp]\n",
    "    return answer"
   ]
  },
  {
   "cell_type": "markdown",
   "id": "572214c3",
   "metadata": {},
   "source": [
    "#### 기타"
   ]
  },
  {
   "cell_type": "code",
   "execution_count": 6,
   "id": "77cd88f1",
   "metadata": {},
   "outputs": [],
   "source": [
    "def solution(participant, completion):\n",
    "    \n",
    "    answer=list(set(participant)-set(completion))\n",
    "    \n",
    "    if answer!=[]:\n",
    "        return answer[0]\n",
    "    \n",
    "    else:\n",
    "        for i in completion:\n",
    "            p=participant.count(i)\n",
    "            c=completion.count(i)\n",
    "            \n",
    "            if p!=c:\n",
    "                return i"
   ]
  },
  {
   "cell_type": "code",
   "execution_count": 7,
   "id": "c03771ec",
   "metadata": {},
   "outputs": [
    {
     "data": {
      "text/plain": [
       "'mislav'"
      ]
     },
     "execution_count": 7,
     "metadata": {},
     "output_type": "execute_result"
    }
   ],
   "source": [
    "solution(participant, completion)"
   ]
  }
 ],
 "metadata": {
  "kernelspec": {
   "display_name": "Python 3",
   "language": "python",
   "name": "python3"
  },
  "language_info": {
   "codemirror_mode": {
    "name": "ipython",
    "version": 3
   },
   "file_extension": ".py",
   "mimetype": "text/x-python",
   "name": "python",
   "nbconvert_exporter": "python",
   "pygments_lexer": "ipython3",
   "version": "3.8.8"
  }
 },
 "nbformat": 4,
 "nbformat_minor": 5
}
